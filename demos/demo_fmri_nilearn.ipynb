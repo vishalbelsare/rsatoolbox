{
 "cells": [
  {
   "cell_type": "markdown",
   "metadata": {},
   "source": [
    "# fMRI Demo (nilearn version)"
   ]
  },
  {
   "cell_type": "markdown",
   "metadata": {},
   "source": [
    "## About this demo\n",
    "\n",
    "In this demo we'll show how to use the python *nilearn* library to create multi-voxel patterns and then how to use these in the *rsatoolbox* to create RDMs. See the [patterns demo](https://rsatoolbox.readthedocs.io/en/stable/demo_fmri_patterns.html) for a more birds-eye view of the analysis pipeline, with a larger portion of the dataset, including inference."
   ]
  },
  {
   "cell_type": "markdown",
   "metadata": {},
   "source": [
    "## The Dataset\n",
    "\n",
    "The data used for this demo was kindly provided by Marieke Mur. This study is still under review, so we will update this demo to include steps to download the data when it becomes publicly available. \n",
    "\n",
    "Participants (n=14) viewed images of 16 objects, as well as their written name. Several properties of the stimuli were carefully balanced. They also performed several tasks, but for the purposes of this demo we will ignore these."
   ]
  },
  {
   "cell_type": "markdown",
   "metadata": {},
   "source": [
    "![stimuli](demo_fmri_files/mur32_stims.png)"
   ]
  },
  {
   "cell_type": "markdown",
   "metadata": {},
   "source": [
    "This library depends on *nibabel* for convenience functions to access MRI data, and is used separately in the demo as well, so start by installing nibabel (`pip install nibabel`).\n",
    "\n",
    "Then run the following imports:"
   ]
  },
  {
   "cell_type": "code",
   "execution_count": 1,
   "metadata": {},
   "outputs": [],
   "source": [
    "%matplotlib inline\n",
    "from os.path import expanduser, join\n",
    "from rsatoolbox.io.fmriprep import find_fmriprep_runs\n",
    "from rsatoolbox.data.dataset import Dataset, merge_datasets\n",
    "from rsatoolbox.vis import show_rdm\n",
    "from rsatoolbox.rdm.calc import calc_rdm\n",
    "from rsatoolbox.data.noise import prec_from_residuals\n",
    "import numpy, pandas, matplotlib.pyplot\n",
    "import nibabel, pandas\n",
    "from nilearn.glm.first_level import make_first_level_design_matrix\n",
    "from nilearn.plotting import plot_design_matrix"
   ]
  },
  {
   "cell_type": "markdown",
   "metadata": {},
   "source": [
    "Now we define the path to the BIDS-root data directory"
   ]
  },
  {
   "cell_type": "code",
   "execution_count": 2,
   "metadata": {},
   "outputs": [],
   "source": [
    "data_dir = expanduser('~/data/rsatoolbox/mur32')"
   ]
  },
  {
   "cell_type": "markdown",
   "metadata": {},
   "source": [
    "Next we use a utility function to find the relevant preprocessed BOLD images:"
   ]
  },
  {
   "cell_type": "code",
   "execution_count": 3,
   "metadata": {},
   "outputs": [
    {
     "data": {
      "text/plain": [
       "84"
      ]
     },
     "execution_count": 3,
     "metadata": {},
     "output_type": "execute_result"
    }
   ],
   "source": [
    "runs = find_fmriprep_runs(data_dir, tasks=['main'])\n",
    "len(runs)"
   ]
  },
  {
   "cell_type": "markdown",
   "metadata": {},
   "source": [
    "Let's select all the runs for participant *sub-12*:"
   ]
  },
  {
   "cell_type": "code",
   "execution_count": 4,
   "metadata": {},
   "outputs": [
    {
     "data": {
      "text/plain": [
       "6"
      ]
     },
     "execution_count": 4,
     "metadata": {},
     "output_type": "execute_result"
    }
   ],
   "source": [
    "runs = [run for run in runs if run.boldFile.sub == '12']\n",
    "len(runs)"
   ]
  },
  {
   "cell_type": "markdown",
   "metadata": {},
   "source": [
    "Each run object carries the relevant data and metadata"
   ]
  },
  {
   "cell_type": "code",
   "execution_count": 5,
   "metadata": {},
   "outputs": [
    {
     "data": {
      "text/plain": [
       "<FmriprepRun [sub-12/ses-01/func/sub-12_ses-01_task-main_run-01_space-MNI152NLin2009cAsym_desc-preproc_bold.nii.gz]>"
      ]
     },
     "execution_count": 5,
     "metadata": {},
     "output_type": "execute_result"
    }
   ],
   "source": [
    "run = runs[0]\n",
    "run"
   ]
  },
  {
   "cell_type": "code",
   "execution_count": 6,
   "metadata": {},
   "outputs": [
    {
     "data": {
      "text/plain": [
       "(275275, 546)"
      ]
     },
     "execution_count": 6,
     "metadata": {},
     "output_type": "execute_result"
    }
   ],
   "source": [
    "dims = run.get_data().shape ## bold timeseries: x * y * z * volumes\n",
    "n_vols = dims[-1]\n",
    "dims"
   ]
  },
  {
   "cell_type": "markdown",
   "metadata": {},
   "source": [
    "Access the attributes stored in the *_metadata.json* for this file"
   ]
  },
  {
   "cell_type": "code",
   "execution_count": 7,
   "metadata": {},
   "outputs": [
    {
     "data": {
      "text/plain": [
       "2"
      ]
     },
     "execution_count": 7,
     "metadata": {},
     "output_type": "execute_result"
    }
   ],
   "source": [
    "tr = run.get_meta()['RepetitionTime'] ## TR in seconds\n",
    "tr"
   ]
  },
  {
   "cell_type": "markdown",
   "metadata": {},
   "source": [
    "We will also load the events table"
   ]
  },
  {
   "cell_type": "code",
   "execution_count": 8,
   "metadata": {},
   "outputs": [
    {
     "data": {
      "text/html": [
       "<div>\n",
       "<style scoped>\n",
       "    .dataframe tbody tr th:only-of-type {\n",
       "        vertical-align: middle;\n",
       "    }\n",
       "\n",
       "    .dataframe tbody tr th {\n",
       "        vertical-align: top;\n",
       "    }\n",
       "\n",
       "    .dataframe thead th {\n",
       "        text-align: right;\n",
       "    }\n",
       "</style>\n",
       "<table border=\"1\" class=\"dataframe\">\n",
       "  <thead>\n",
       "    <tr style=\"text-align: right;\">\n",
       "      <th></th>\n",
       "      <th>onset</th>\n",
       "      <th>duration</th>\n",
       "      <th>trial_type</th>\n",
       "      <th>modality</th>\n",
       "      <th>identity</th>\n",
       "      <th>response_time</th>\n",
       "      <th>task</th>\n",
       "      <th>response_mapping</th>\n",
       "    </tr>\n",
       "  </thead>\n",
       "  <tbody>\n",
       "    <tr>\n",
       "      <th>274</th>\n",
       "      <td>821.997</td>\n",
       "      <td>0.5</td>\n",
       "      <td>baseline</td>\n",
       "      <td>NaN</td>\n",
       "      <td>NaN</td>\n",
       "      <td>NaN</td>\n",
       "      <td>NaN</td>\n",
       "      <td>NaN</td>\n",
       "    </tr>\n",
       "    <tr>\n",
       "      <th>118</th>\n",
       "      <td>353.985</td>\n",
       "      <td>0.5</td>\n",
       "      <td>text_candle</td>\n",
       "      <td>text</td>\n",
       "      <td>candle</td>\n",
       "      <td>0.839</td>\n",
       "      <td>semantic</td>\n",
       "      <td>right-left</td>\n",
       "    </tr>\n",
       "    <tr>\n",
       "      <th>123</th>\n",
       "      <td>368.991</td>\n",
       "      <td>0.5</td>\n",
       "      <td>image_ladder</td>\n",
       "      <td>image</td>\n",
       "      <td>ladder</td>\n",
       "      <td>0.897</td>\n",
       "      <td>semantic</td>\n",
       "      <td>right-left</td>\n",
       "    </tr>\n",
       "    <tr>\n",
       "      <th>265</th>\n",
       "      <td>794.987</td>\n",
       "      <td>0.5</td>\n",
       "      <td>image_helmet</td>\n",
       "      <td>image</td>\n",
       "      <td>helmet</td>\n",
       "      <td>1.792</td>\n",
       "      <td>fixation</td>\n",
       "      <td>left-right</td>\n",
       "    </tr>\n",
       "    <tr>\n",
       "      <th>230</th>\n",
       "      <td>689.997</td>\n",
       "      <td>0.5</td>\n",
       "      <td>baseline</td>\n",
       "      <td>NaN</td>\n",
       "      <td>NaN</td>\n",
       "      <td>NaN</td>\n",
       "      <td>NaN</td>\n",
       "      <td>NaN</td>\n",
       "    </tr>\n",
       "  </tbody>\n",
       "</table>\n",
       "</div>"
      ],
      "text/plain": [
       "       onset  duration    trial_type modality identity  response_time  \\\n",
       "274  821.997       0.5      baseline      NaN      NaN            NaN   \n",
       "118  353.985       0.5   text_candle     text   candle          0.839   \n",
       "123  368.991       0.5  image_ladder    image   ladder          0.897   \n",
       "265  794.987       0.5  image_helmet    image   helmet          1.792   \n",
       "230  689.997       0.5      baseline      NaN      NaN            NaN   \n",
       "\n",
       "         task response_mapping  \n",
       "274       NaN              NaN  \n",
       "118  semantic       right-left  \n",
       "123  semantic       right-left  \n",
       "265  fixation       left-right  \n",
       "230       NaN              NaN  "
      ]
     },
     "execution_count": 8,
     "metadata": {},
     "output_type": "execute_result"
    }
   ],
   "source": [
    "run.get_events().sample(5) ## 5 random events"
   ]
  },
  {
   "cell_type": "code",
   "execution_count": 9,
   "metadata": {},
   "outputs": [
    {
     "data": {
      "text/html": [
       "<div>\n",
       "<style scoped>\n",
       "    .dataframe tbody tr th:only-of-type {\n",
       "        vertical-align: middle;\n",
       "    }\n",
       "\n",
       "    .dataframe tbody tr th {\n",
       "        vertical-align: top;\n",
       "    }\n",
       "\n",
       "    .dataframe thead th {\n",
       "        text-align: right;\n",
       "    }\n",
       "</style>\n",
       "<table border=\"1\" class=\"dataframe\">\n",
       "  <thead>\n",
       "    <tr style=\"text-align: right;\">\n",
       "      <th></th>\n",
       "      <th>global_signal</th>\n",
       "      <th>csf</th>\n",
       "      <th>white_matter</th>\n",
       "      <th>trans_x</th>\n",
       "      <th>trans_y</th>\n",
       "      <th>trans_z</th>\n",
       "      <th>rot_x</th>\n",
       "      <th>rot_y</th>\n",
       "      <th>rot_z</th>\n",
       "    </tr>\n",
       "  </thead>\n",
       "  <tbody>\n",
       "    <tr>\n",
       "      <th>0</th>\n",
       "      <td>490.950364</td>\n",
       "      <td>852.897339</td>\n",
       "      <td>454.706819</td>\n",
       "      <td>-0.031540</td>\n",
       "      <td>-0.278969</td>\n",
       "      <td>-0.171883</td>\n",
       "      <td>0.003922</td>\n",
       "      <td>0.001695</td>\n",
       "      <td>-0.001443</td>\n",
       "    </tr>\n",
       "    <tr>\n",
       "      <th>1</th>\n",
       "      <td>488.731823</td>\n",
       "      <td>841.926156</td>\n",
       "      <td>454.439092</td>\n",
       "      <td>0.004438</td>\n",
       "      <td>-0.155145</td>\n",
       "      <td>-0.161355</td>\n",
       "      <td>0.004182</td>\n",
       "      <td>0.001695</td>\n",
       "      <td>-0.000628</td>\n",
       "    </tr>\n",
       "    <tr>\n",
       "      <th>2</th>\n",
       "      <td>488.417947</td>\n",
       "      <td>836.871638</td>\n",
       "      <td>454.370054</td>\n",
       "      <td>0.005771</td>\n",
       "      <td>-0.200537</td>\n",
       "      <td>-0.150666</td>\n",
       "      <td>0.004127</td>\n",
       "      <td>0.001523</td>\n",
       "      <td>-0.001216</td>\n",
       "    </tr>\n",
       "  </tbody>\n",
       "</table>\n",
       "</div>"
      ],
      "text/plain": [
       "   global_signal         csf  white_matter   trans_x   trans_y   trans_z  \\\n",
       "0     490.950364  852.897339    454.706819 -0.031540 -0.278969 -0.171883   \n",
       "1     488.731823  841.926156    454.439092  0.004438 -0.155145 -0.161355   \n",
       "2     488.417947  836.871638    454.370054  0.005771 -0.200537 -0.150666   \n",
       "\n",
       "      rot_x     rot_y     rot_z  \n",
       "0  0.003922  0.001695 -0.001443  \n",
       "1  0.004182  0.001695 -0.000628  \n",
       "2  0.004127  0.001523 -0.001216  "
      ]
     },
     "execution_count": 9,
     "metadata": {},
     "output_type": "execute_result"
    }
   ],
   "source": [
    "run.get_confounds().head(3)"
   ]
  },
  {
   "cell_type": "markdown",
   "metadata": {},
   "source": [
    "## Patterns\n",
    "\n",
    "Next we want to establish Multi-Voxel Patterns from the timeseries, such that, for each stimulus presentation, we have one observation per voxel. The most common way to do this is with a General Linear Model, where each predictor in the model reflects one type of event, convolved with the haemodynamic response function (HRF). For the purposes of this demo we will use a very basic glm implementation in Python. For a guide on MVPA, see [Mur et al. 2009](https://doi.org/10.1093/scan/nsn044)."
   ]
  },
  {
   "cell_type": "markdown",
   "metadata": {},
   "source": [
    "First we use a utility function which creates predictors from the events table and convolves them with the HRF. Note that we have 34 predictors, with a value for each volume in the BOLD timeseries. "
   ]
  },
  {
   "cell_type": "code",
   "execution_count": 10,
   "metadata": {},
   "outputs": [
    {
     "name": "stderr",
     "output_type": "stream",
     "text": [
      "/Users/jasper/projects/rsatoolbox/env/lib/python3.11/site-packages/nilearn/glm/first_level/experimental_paradigm.py:167: UserWarning: The following unexpected columns in events data will be ignored: response_mapping, response_time, modality, identity, task\n",
      "  warnings.warn(\n"
     ]
    },
    {
     "data": {
      "text/plain": [
       "<Axes: label='conditions', ylabel='scan number'>"
      ]
     },
     "execution_count": 10,
     "metadata": {},
     "output_type": "execute_result"
    },
    {
     "data": {
      "image/png": "[encoded data removed]",
      "text/plain": [
       "<Figure size 974x1000 with 1 Axes>"
      ]
     },
     "metadata": {},
     "output_type": "display_data"
    }
   ],
   "source": [
    "\n",
    "\n",
    "frame_times = numpy.linspace(0, tr*(n_vols-1), n_vols) ## [0, 2, 4] onsets of scans in seconds\n",
    "design_matrix = make_first_level_design_matrix(\n",
    "    frame_times,\n",
    "    run.get_events(),\n",
    "    drift_model='polynomial',\n",
    "    drift_order=3)\n",
    "plot_design_matrix(design_matrix)"
   ]
  },
  {
   "cell_type": "markdown",
   "metadata": {},
   "source": [
    "This plot shows the design matrix. Every blip reflects the haemodynamic response to a single trial."
   ]
  },
  {
   "cell_type": "markdown",
   "metadata": {},
   "source": [
    "### GLM\n",
    "Here we fit nilearn's implementation of the GLM"
   ]
  },
  {
   "cell_type": "code",
   "execution_count": 11,
   "metadata": {},
   "outputs": [
    {
     "name": "stderr",
     "output_type": "stream",
     "text": [
      "/Users/jasper/projects/rsatoolbox/env/lib/python3.11/site-packages/nilearn/glm/first_level/first_level.py:707: UserWarning: Mean values of 0 observed. The data have probably been centered.Scaling might not work as expected\n",
      "  Y, _ = mean_scaling(Y, self.signal_scaling)\n",
      "/Users/jasper/projects/rsatoolbox/env/lib/python3.11/site-packages/joblib/externals/loky/process_executor.py:752: UserWarning: A worker stopped while some jobs were given to the executor. This can be caused by a too short worker timeout or by a memory leak.\n",
      "  warnings.warn(\n"
     ]
    },
    {
     "data": {
      "text/html": [
       "<style>#sk-container-id-1 {\n",
       "  /* Definition of color scheme common for light and dark mode */\n",
       "  --sklearn-color-text: black;\n",
       "  --sklearn-color-line: gray;\n",
       "  /* Definition of color scheme for unfitted estimators */\n",
       "  --sklearn-color-unfitted-level-0: #fff5e6;\n",
       "  --sklearn-color-unfitted-level-1: #f6e4d2;\n",
       "  --sklearn-color-unfitted-level-2: #ffe0b3;\n",
       "  --sklearn-color-unfitted-level-3: chocolate;\n",
       "  /* Definition of color scheme for fitted estimators */\n",
       "  --sklearn-color-fitted-level-0: #f0f8ff;\n",
       "  --sklearn-color-fitted-level-1: #d4ebff;\n",
       "  --sklearn-color-fitted-level-2: #b3dbfd;\n",
       "  --sklearn-color-fitted-level-3: cornflowerblue;\n",
       "\n",
       "  /* Specific color for light theme */\n",
       "  --sklearn-color-text-on-default-background: var(--sg-text-color, var(--theme-code-foreground, var(--jp-content-font-color1, black)));\n",
       "  --sklearn-color-background: var(--sg-background-color, var(--theme-background, var(--jp-layout-color0, white)));\n",
       "  --sklearn-color-border-box: var(--sg-text-color, var(--theme-code-foreground, var(--jp-content-font-color1, black)));\n",
       "  --sklearn-color-icon: #696969;\n",
       "\n",
       "  @media (prefers-color-scheme: dark) {\n",
       "    /* Redefinition of color scheme for dark theme */\n",
       "    --sklearn-color-text-on-default-background: var(--sg-text-color, var(--theme-code-foreground, var(--jp-content-font-color1, white)));\n",
       "    --sklearn-color-background: var(--sg-background-color, var(--theme-background, var(--jp-layout-color0, #111)));\n",
       "    --sklearn-color-border-box: var(--sg-text-color, var(--theme-code-foreground, var(--jp-content-font-color1, white)));\n",
       "    --sklearn-color-icon: #878787;\n",
       "  }\n",
       "}\n",
       "\n",
       "#sk-container-id-1 {\n",
       "  color: var(--sklearn-color-text);\n",
       "}\n",
       "\n",
       "#sk-container-id-1 pre {\n",
       "  padding: 0;\n",
       "}\n",
       "\n",
       "#sk-container-id-1 input.sk-hidden--visually {\n",
       "  border: 0;\n",
       "  clip: rect(1px 1px 1px 1px);\n",
       "  clip: rect(1px, 1px, 1px, 1px);\n",
       "  height: 1px;\n",
       "  margin: -1px;\n",
       "  overflow: hidden;\n",
       "  padding: 0;\n",
       "  position: absolute;\n",
       "  width: 1px;\n",
       "}\n",
       "\n",
       "#sk-container-id-1 div.sk-dashed-wrapped {\n",
       "  border: 1px dashed var(--sklearn-color-line);\n",
       "  margin: 0 0.4em 0.5em 0.4em;\n",
       "  box-sizing: border-box;\n",
       "  padding-bottom: 0.4em;\n",
       "  background-color: var(--sklearn-color-background);\n",
       "}\n",
       "\n",
       "#sk-container-id-1 div.sk-container {\n",
       "  /* jupyter's `normalize.less` sets `[hidden] { display: none; }`\n",
       "     but bootstrap.min.css set `[hidden] { display: none !important; }`\n",
       "     so we also need the `!important` here to be able to override the\n",
       "     default hidden behavior on the sphinx rendered scikit-learn.org.\n",
       "     See: https://github.com/scikit-learn/scikit-learn/issues/21755 */\n",
       "  display: inline-block !important;\n",
       "  position: relative;\n",
       "}\n",
       "\n",
       "#sk-container-id-1 div.sk-text-repr-fallback {\n",
       "  display: none;\n",
       "}\n",
       "\n",
       "div.sk-parallel-item,\n",
       "div.sk-serial,\n",
       "div.sk-item {\n",
       "  /* draw centered vertical line to link estimators */\n",
       "  background-image: linear-gradient(var(--sklearn-color-text-on-default-background), var(--sklearn-color-text-on-default-background));\n",
       "  background-size: 2px 100%;\n",
       "  background-repeat: no-repeat;\n",
       "  background-position: center center;\n",
       "}\n",
       "\n",
       "/* Parallel-specific style estimator block */\n",
       "\n",
       "#sk-container-id-1 div.sk-parallel-item::after {\n",
       "  content: \"\";\n",
       "  width: 100%;\n",
       "  border-bottom: 2px solid var(--sklearn-color-text-on-default-background);\n",
       "  flex-grow: 1;\n",
       "}\n",
       "\n",
       "#sk-container-id-1 div.sk-parallel {\n",
       "  display: flex;\n",
       "  align-items: stretch;\n",
       "  justify-content: center;\n",
       "  background-color: var(--sklearn-color-background);\n",
       "  position: relative;\n",
       "}\n",
       "\n",
       "#sk-container-id-1 div.sk-parallel-item {\n",
       "  display: flex;\n",
       "  flex-direction: column;\n",
       "}\n",
       "\n",
       "#sk-container-id-1 div.sk-parallel-item:first-child::after {\n",
       "  align-self: flex-end;\n",
       "  width: 50%;\n",
       "}\n",
       "\n",
       "#sk-container-id-1 div.sk-parallel-item:last-child::after {\n",
       "  align-self: flex-start;\n",
       "  width: 50%;\n",
       "}\n",
       "\n",
       "#sk-container-id-1 div.sk-parallel-item:only-child::after {\n",
       "  width: 0;\n",
       "}\n",
       "\n",
       "/* Serial-specific style estimator block */\n",
       "\n",
       "#sk-container-id-1 div.sk-serial {\n",
       "  display: flex;\n",
       "  flex-direction: column;\n",
       "  align-items: center;\n",
       "  background-color: var(--sklearn-color-background);\n",
       "  padding-right: 1em;\n",
       "  padding-left: 1em;\n",
       "}\n",
       "\n",
       "\n",
       "/* Toggleable style: style used for estimator/Pipeline/ColumnTransformer box that is\n",
       "clickable and can be expanded/collapsed.\n",
       "- Pipeline and ColumnTransformer use this feature and define the default style\n",
       "- Estimators will overwrite some part of the style using the `sk-estimator` class\n",
       "*/\n",
       "\n",
       "/* Pipeline and ColumnTransformer style (default) */\n",
       "\n",
       "#sk-container-id-1 div.sk-toggleable {\n",
       "  /* Default theme specific background. It is overwritten whether we have a\n",
       "  specific estimator or a Pipeline/ColumnTransformer */\n",
       "  background-color: var(--sklearn-color-background);\n",
       "}\n",
       "\n",
       "/* Toggleable label */\n",
       "#sk-container-id-1 label.sk-toggleable__label {\n",
       "  cursor: pointer;\n",
       "  display: block;\n",
       "  width: 100%;\n",
       "  margin-bottom: 0;\n",
       "  padding: 0.5em;\n",
       "  box-sizing: border-box;\n",
       "  text-align: center;\n",
       "}\n",
       "\n",
       "#sk-container-id-1 label.sk-toggleable__label-arrow:before {\n",
       "  /* Arrow on the left of the label */\n",
       "  content: \"▸\";\n",
       "  float: left;\n",
       "  margin-right: 0.25em;\n",
       "  color: var(--sklearn-color-icon);\n",
       "}\n",
       "\n",
       "#sk-container-id-1 label.sk-toggleable__label-arrow:hover:before {\n",
       "  color: var(--sklearn-color-text);\n",
       "}\n",
       "\n",
       "/* Toggleable content - dropdown */\n",
       "\n",
       "#sk-container-id-1 div.sk-toggleable__content {\n",
       "  max-height: 0;\n",
       "  max-width: 0;\n",
       "  overflow: hidden;\n",
       "  text-align: left;\n",
       "  /* unfitted */\n",
       "  background-color: var(--sklearn-color-unfitted-level-0);\n",
       "}\n",
       "\n",
       "#sk-container-id-1 div.sk-toggleable__content.fitted {\n",
       "  /* fitted */\n",
       "  background-color: var(--sklearn-color-fitted-level-0);\n",
       "}\n",
       "\n",
       "#sk-container-id-1 div.sk-toggleable__content pre {\n",
       "  margin: 0.2em;\n",
       "  border-radius: 0.25em;\n",
       "  color: var(--sklearn-color-text);\n",
       "  /* unfitted */\n",
       "  background-color: var(--sklearn-color-unfitted-level-0);\n",
       "}\n",
       "\n",
       "#sk-container-id-1 div.sk-toggleable__content.fitted pre {\n",
       "  /* unfitted */\n",
       "  background-color: var(--sklearn-color-fitted-level-0);\n",
       "}\n",
       "\n",
       "#sk-container-id-1 input.sk-toggleable__control:checked~div.sk-toggleable__content {\n",
       "  /* Expand drop-down */\n",
       "  max-height: 200px;\n",
       "  max-width: 100%;\n",
       "  overflow: auto;\n",
       "}\n",
       "\n",
       "#sk-container-id-1 input.sk-toggleable__control:checked~label.sk-toggleable__label-arrow:before {\n",
       "  content: \"▾\";\n",
       "}\n",
       "\n",
       "/* Pipeline/ColumnTransformer-specific style */\n",
       "\n",
       "#sk-container-id-1 div.sk-label input.sk-toggleable__control:checked~label.sk-toggleable__label {\n",
       "  color: var(--sklearn-color-text);\n",
       "  background-color: var(--sklearn-color-unfitted-level-2);\n",
       "}\n",
       "\n",
       "#sk-container-id-1 div.sk-label.fitted input.sk-toggleable__control:checked~label.sk-toggleable__label {\n",
       "  background-color: var(--sklearn-color-fitted-level-2);\n",
       "}\n",
       "\n",
       "/* Estimator-specific style */\n",
       "\n",
       "/* Colorize estimator box */\n",
       "#sk-container-id-1 div.sk-estimator input.sk-toggleable__control:checked~label.sk-toggleable__label {\n",
       "  /* unfitted */\n",
       "  background-color: var(--sklearn-color-unfitted-level-2);\n",
       "}\n",
       "\n",
       "#sk-container-id-1 div.sk-estimator.fitted input.sk-toggleable__control:checked~label.sk-toggleable__label {\n",
       "  /* fitted */\n",
       "  background-color: var(--sklearn-color-fitted-level-2);\n",
       "}\n",
       "\n",
       "#sk-container-id-1 div.sk-label label.sk-toggleable__label,\n",
       "#sk-container-id-1 div.sk-label label {\n",
       "  /* The background is the default theme color */\n",
       "  color: var(--sklearn-color-text-on-default-background);\n",
       "}\n",
       "\n",
       "/* On hover, darken the color of the background */\n",
       "#sk-container-id-1 div.sk-label:hover label.sk-toggleable__label {\n",
       "  color: var(--sklearn-color-text);\n",
       "  background-color: var(--sklearn-color-unfitted-level-2);\n",
       "}\n",
       "\n",
       "/* Label box, darken color on hover, fitted */\n",
       "#sk-container-id-1 div.sk-label.fitted:hover label.sk-toggleable__label.fitted {\n",
       "  color: var(--sklearn-color-text);\n",
       "  background-color: var(--sklearn-color-fitted-level-2);\n",
       "}\n",
       "\n",
       "/* Estimator label */\n",
       "\n",
       "#sk-container-id-1 div.sk-label label {\n",
       "  font-family: monospace;\n",
       "  font-weight: bold;\n",
       "  display: inline-block;\n",
       "  line-height: 1.2em;\n",
       "}\n",
       "\n",
       "#sk-container-id-1 div.sk-label-container {\n",
       "  text-align: center;\n",
       "}\n",
       "\n",
       "/* Estimator-specific */\n",
       "#sk-container-id-1 div.sk-estimator {\n",
       "  font-family: monospace;\n",
       "  border: 1px dotted var(--sklearn-color-border-box);\n",
       "  border-radius: 0.25em;\n",
       "  box-sizing: border-box;\n",
       "  margin-bottom: 0.5em;\n",
       "  /* unfitted */\n",
       "  background-color: var(--sklearn-color-unfitted-level-0);\n",
       "}\n",
       "\n",
       "#sk-container-id-1 div.sk-estimator.fitted {\n",
       "  /* fitted */\n",
       "  background-color: var(--sklearn-color-fitted-level-0);\n",
       "}\n",
       "\n",
       "/* on hover */\n",
       "#sk-container-id-1 div.sk-estimator:hover {\n",
       "  /* unfitted */\n",
       "  background-color: var(--sklearn-color-unfitted-level-2);\n",
       "}\n",
       "\n",
       "#sk-container-id-1 div.sk-estimator.fitted:hover {\n",
       "  /* fitted */\n",
       "  background-color: var(--sklearn-color-fitted-level-2);\n",
       "}\n",
       "\n",
       "/* Specification for estimator info (e.g. \"i\" and \"?\") */\n",
       "\n",
       "/* Common style for \"i\" and \"?\" */\n",
       "\n",
       ".sk-estimator-doc-link,\n",
       "a:link.sk-estimator-doc-link,\n",
       "a:visited.sk-estimator-doc-link {\n",
       "  float: right;\n",
       "  font-size: smaller;\n",
       "  line-height: 1em;\n",
       "  font-family: monospace;\n",
       "  background-color: var(--sklearn-color-background);\n",
       "  border-radius: 1em;\n",
       "  height: 1em;\n",
       "  width: 1em;\n",
       "  text-decoration: none !important;\n",
       "  margin-left: 1ex;\n",
       "  /* unfitted */\n",
       "  border: var(--sklearn-color-unfitted-level-1) 1pt solid;\n",
       "  color: var(--sklearn-color-unfitted-level-1);\n",
       "}\n",
       "\n",
       ".sk-estimator-doc-link.fitted,\n",
       "a:link.sk-estimator-doc-link.fitted,\n",
       "a:visited.sk-estimator-doc-link.fitted {\n",
       "  /* fitted */\n",
       "  border: var(--sklearn-color-fitted-level-1) 1pt solid;\n",
       "  color: var(--sklearn-color-fitted-level-1);\n",
       "}\n",
       "\n",
       "/* On hover */\n",
       "div.sk-estimator:hover .sk-estimator-doc-link:hover,\n",
       ".sk-estimator-doc-link:hover,\n",
       "div.sk-label-container:hover .sk-estimator-doc-link:hover,\n",
       ".sk-estimator-doc-link:hover {\n",
       "  /* unfitted */\n",
       "  background-color: var(--sklearn-color-unfitted-level-3);\n",
       "  color: var(--sklearn-color-background);\n",
       "  text-decoration: none;\n",
       "}\n",
       "\n",
       "div.sk-estimator.fitted:hover .sk-estimator-doc-link.fitted:hover,\n",
       ".sk-estimator-doc-link.fitted:hover,\n",
       "div.sk-label-container:hover .sk-estimator-doc-link.fitted:hover,\n",
       ".sk-estimator-doc-link.fitted:hover {\n",
       "  /* fitted */\n",
       "  background-color: var(--sklearn-color-fitted-level-3);\n",
       "  color: var(--sklearn-color-background);\n",
       "  text-decoration: none;\n",
       "}\n",
       "\n",
       "/* Span, style for the box shown on hovering the info icon */\n",
       ".sk-estimator-doc-link span {\n",
       "  display: none;\n",
       "  z-index: 9999;\n",
       "  position: relative;\n",
       "  font-weight: normal;\n",
       "  right: .2ex;\n",
       "  padding: .5ex;\n",
       "  margin: .5ex;\n",
       "  width: min-content;\n",
       "  min-width: 20ex;\n",
       "  max-width: 50ex;\n",
       "  color: var(--sklearn-color-text);\n",
       "  box-shadow: 2pt 2pt 4pt #999;\n",
       "  /* unfitted */\n",
       "  background: var(--sklearn-color-unfitted-level-0);\n",
       "  border: .5pt solid var(--sklearn-color-unfitted-level-3);\n",
       "}\n",
       "\n",
       ".sk-estimator-doc-link.fitted span {\n",
       "  /* fitted */\n",
       "  background: var(--sklearn-color-fitted-level-0);\n",
       "  border: var(--sklearn-color-fitted-level-3);\n",
       "}\n",
       "\n",
       ".sk-estimator-doc-link:hover span {\n",
       "  display: block;\n",
       "}\n",
       "\n",
       "/* \"?\"-specific style due to the `<a>` HTML tag */\n",
       "\n",
       "#sk-container-id-1 a.estimator_doc_link {\n",
       "  float: right;\n",
       "  font-size: 1rem;\n",
       "  line-height: 1em;\n",
       "  font-family: monospace;\n",
       "  background-color: var(--sklearn-color-background);\n",
       "  border-radius: 1rem;\n",
       "  height: 1rem;\n",
       "  width: 1rem;\n",
       "  text-decoration: none;\n",
       "  /* unfitted */\n",
       "  color: var(--sklearn-color-unfitted-level-1);\n",
       "  border: var(--sklearn-color-unfitted-level-1) 1pt solid;\n",
       "}\n",
       "\n",
       "#sk-container-id-1 a.estimator_doc_link.fitted {\n",
       "  /* fitted */\n",
       "  border: var(--sklearn-color-fitted-level-1) 1pt solid;\n",
       "  color: var(--sklearn-color-fitted-level-1);\n",
       "}\n",
       "\n",
       "/* On hover */\n",
       "#sk-container-id-1 a.estimator_doc_link:hover {\n",
       "  /* unfitted */\n",
       "  background-color: var(--sklearn-color-unfitted-level-3);\n",
       "  color: var(--sklearn-color-background);\n",
       "  text-decoration: none;\n",
       "}\n",
       "\n",
       "#sk-container-id-1 a.estimator_doc_link.fitted:hover {\n",
       "  /* fitted */\n",
       "  background-color: var(--sklearn-color-fitted-level-3);\n",
       "}\n",
       "</style><div id=\"sk-container-id-1\" class=\"sk-top-container\"><div class=\"sk-text-repr-fallback\"><pre>FirstLevelModel(mask_img=&lt;nibabel.nifti1.Nifti1Image object at 0x317ead2d0&gt;,\n",
       "                minimize_memory=False, n_jobs=-2, t_r=2)</pre><b>In a Jupyter environment, please rerun this cell to show the HTML representation or trust the notebook. <br />On GitHub, the HTML representation is unable to render, please try loading this page with nbviewer.org.</b></div><div class=\"sk-container\" hidden><div class=\"sk-item\"><div class=\"sk-estimator fitted sk-toggleable\"><input class=\"sk-toggleable__control sk-hidden--visually\" id=\"sk-estimator-id-1\" type=\"checkbox\" checked><label for=\"sk-estimator-id-1\" class=\"sk-toggleable__label fitted sk-toggleable__label-arrow fitted\">&nbsp;FirstLevelModel<span class=\"sk-estimator-doc-link fitted\">i<span>Fitted</span></span></label><div class=\"sk-toggleable__content fitted\"><pre>FirstLevelModel(mask_img=&lt;nibabel.nifti1.Nifti1Image object at 0x317ead2d0&gt;,\n",
       "                minimize_memory=False, n_jobs=-2, t_r=2)</pre></div> </div></div></div></div>"
      ],
      "text/plain": [
       "FirstLevelModel(mask_img=<nibabel.nifti1.Nifti1Image object at 0x317ead2d0>,\n",
       "                minimize_memory=False, n_jobs=-2, t_r=2)"
      ]
     },
     "execution_count": 11,
     "metadata": {},
     "output_type": "execute_result"
    }
   ],
   "source": [
    "from nilearn.glm.first_level import FirstLevelModel\n",
    "glm = FirstLevelModel(\n",
    "    t_r=tr,\n",
    "    mask_img=False,\n",
    "    minimize_memory=False,\n",
    "    signal_scaling=0,\n",
    "    n_jobs=-2\n",
    ")\n",
    "glm.fit([run.boldFile.fpath], design_matrices=design_matrix)"
   ]
  },
  {
   "cell_type": "code",
   "execution_count": 12,
   "metadata": {},
   "outputs": [
    {
     "data": {
      "text/plain": [
       "['image_bagel',\n",
       " 'image_brick',\n",
       " 'image_candle',\n",
       " 'image_clock',\n",
       " 'image_glass',\n",
       " 'image_glove',\n",
       " 'image_helmet',\n",
       " 'image_kettle',\n",
       " 'image_knife',\n",
       " 'image_ladder',\n",
       " 'image_pedal',\n",
       " 'image_saddle',\n",
       " 'image_spade',\n",
       " 'image_sponge',\n",
       " 'image_table',\n",
       " 'image_wheel',\n",
       " 'text_bagel',\n",
       " 'text_brick',\n",
       " 'text_candle',\n",
       " 'text_clock',\n",
       " 'text_glass',\n",
       " 'text_glove',\n",
       " 'text_helmet',\n",
       " 'text_kettle',\n",
       " 'text_knife',\n",
       " 'text_ladder',\n",
       " 'text_pedal',\n",
       " 'text_saddle',\n",
       " 'text_spade',\n",
       " 'text_sponge',\n",
       " 'text_table',\n",
       " 'text_wheel']"
      ]
     },
     "execution_count": 12,
     "metadata": {},
     "output_type": "execute_result"
    }
   ],
   "source": [
    "conditions = [c for c in design_matrix.columns if ('image_' in c) or ('text_' in c)]\n",
    "conditions"
   ]
  },
  {
   "cell_type": "code",
   "execution_count": 13,
   "metadata": {},
   "outputs": [],
   "source": [
    "beta_img = glm.compute_contrast('image_glove', output_type='effect_size')"
   ]
  },
  {
   "cell_type": "markdown",
   "metadata": {},
   "source": [
    "The output of this is a statistical map; a whole-brain volume with a beta-weight for every voxel. "
   ]
  },
  {
   "cell_type": "markdown",
   "metadata": {},
   "source": [
    "## Defining a Region-of-Interest\n",
    "We want to sample a pattern for a specific brain region. Luckily this *fmriprep* run comes with the *aparcaseg* parcellation map projected into the subject's space. Let's use this atlas to create a *mask* for the Fusiform Gyrus."
   ]
  },
  {
   "cell_type": "code",
   "execution_count": 14,
   "metadata": {},
   "outputs": [
    {
     "name": "stdout",
     "output_type": "stream",
     "text": [
      "(65, 77, 55)\n",
      "[   0. 1001. 1015. 1022. 1030. 1031.]\n"
     ]
    }
   ],
   "source": [
    "# Navigate to the aparcaseg file for this run:\n",
    "aparc = run.boldFile.get_mri_sibling(desc='aparcaseg', suffix='dseg')\n",
    "aparc_data = aparc.get_data()\n",
    "print(aparc_data.shape)\n",
    "print(numpy.unique(aparc_data[:10]))"
   ]
  },
  {
   "cell_type": "markdown",
   "metadata": {},
   "source": [
    "As we see, this is a volume with an whole number at every voxel. We can use the corresponding lookup-table (LUT) to understand these numbers:"
   ]
  },
  {
   "cell_type": "code",
   "execution_count": 15,
   "metadata": {},
   "outputs": [
    {
     "data": {
      "text/html": [
       "<div>\n",
       "<style scoped>\n",
       "    .dataframe tbody tr th:only-of-type {\n",
       "        vertical-align: middle;\n",
       "    }\n",
       "\n",
       "    .dataframe tbody tr th {\n",
       "        vertical-align: top;\n",
       "    }\n",
       "\n",
       "    .dataframe thead th {\n",
       "        text-align: right;\n",
       "    }\n",
       "</style>\n",
       "<table border=\"1\" class=\"dataframe\">\n",
       "  <thead>\n",
       "    <tr style=\"text-align: right;\">\n",
       "      <th></th>\n",
       "      <th>index</th>\n",
       "      <th>name</th>\n",
       "      <th>color</th>\n",
       "    </tr>\n",
       "  </thead>\n",
       "  <tbody>\n",
       "    <tr>\n",
       "      <th>0</th>\n",
       "      <td>0</td>\n",
       "      <td>Unknown</td>\n",
       "      <td>#000000</td>\n",
       "    </tr>\n",
       "    <tr>\n",
       "      <th>1</th>\n",
       "      <td>1</td>\n",
       "      <td>Left-Cerebral-Exterior</td>\n",
       "      <td>#4682b4</td>\n",
       "    </tr>\n",
       "    <tr>\n",
       "      <th>2</th>\n",
       "      <td>2</td>\n",
       "      <td>Left-Cerebral-White-Matter</td>\n",
       "      <td>#f5f5f5</td>\n",
       "    </tr>\n",
       "    <tr>\n",
       "      <th>3</th>\n",
       "      <td>3</td>\n",
       "      <td>Left-Cerebral-Cortex</td>\n",
       "      <td>#cd3e4e</td>\n",
       "    </tr>\n",
       "    <tr>\n",
       "      <th>4</th>\n",
       "      <td>4</td>\n",
       "      <td>Left-Lateral-Ventricle</td>\n",
       "      <td>#781286</td>\n",
       "    </tr>\n",
       "    <tr>\n",
       "      <th>...</th>\n",
       "      <td>...</td>\n",
       "      <td>...</td>\n",
       "      <td>...</td>\n",
       "    </tr>\n",
       "    <tr>\n",
       "      <th>1369</th>\n",
       "      <td>14171</td>\n",
       "      <td>wm_rh_S_suborbital</td>\n",
       "      <td>#15143c</td>\n",
       "    </tr>\n",
       "    <tr>\n",
       "      <th>1370</th>\n",
       "      <td>14172</td>\n",
       "      <td>wm_rh_S_subparietal</td>\n",
       "      <td>#653c3c</td>\n",
       "    </tr>\n",
       "    <tr>\n",
       "      <th>1371</th>\n",
       "      <td>14173</td>\n",
       "      <td>wm_rh_S_temporal_inf</td>\n",
       "      <td>#15b4b4</td>\n",
       "    </tr>\n",
       "    <tr>\n",
       "      <th>1372</th>\n",
       "      <td>14174</td>\n",
       "      <td>wm_rh_S_temporal_sup</td>\n",
       "      <td>#dfdc3c</td>\n",
       "    </tr>\n",
       "    <tr>\n",
       "      <th>1373</th>\n",
       "      <td>14175</td>\n",
       "      <td>wm_rh_S_temporal_transverse</td>\n",
       "      <td>#dd3c3c</td>\n",
       "    </tr>\n",
       "  </tbody>\n",
       "</table>\n",
       "<p>1374 rows × 3 columns</p>\n",
       "</div>"
      ],
      "text/plain": [
       "      index                         name    color\n",
       "0         0                      Unknown  #000000\n",
       "1         1       Left-Cerebral-Exterior  #4682b4\n",
       "2         2   Left-Cerebral-White-Matter  #f5f5f5\n",
       "3         3         Left-Cerebral-Cortex  #cd3e4e\n",
       "4         4       Left-Lateral-Ventricle  #781286\n",
       "...     ...                          ...      ...\n",
       "1369  14171           wm_rh_S_suborbital  #15143c\n",
       "1370  14172          wm_rh_S_subparietal  #653c3c\n",
       "1371  14173         wm_rh_S_temporal_inf  #15b4b4\n",
       "1372  14174         wm_rh_S_temporal_sup  #dfdc3c\n",
       "1373  14175  wm_rh_S_temporal_transverse  #dd3c3c\n",
       "\n",
       "[1374 rows x 3 columns]"
      ]
     },
     "execution_count": 15,
     "metadata": {},
     "output_type": "execute_result"
    }
   ],
   "source": [
    "lut_fpath = join(data_dir, 'derivatives', 'fmriprep',\n",
    "                 'desc-aparcaseg_dseg.tsv')\n",
    "lut_df = pandas.read_csv(lut_fpath, sep='\\t')\n",
    "lut_df"
   ]
  },
  {
   "cell_type": "markdown",
   "metadata": {},
   "source": [
    "Now let's find the numbers that correspond to the Fusiform Gyrus in the left- and right hemisphere:"
   ]
  },
  {
   "cell_type": "code",
   "execution_count": 16,
   "metadata": {},
   "outputs": [
    {
     "data": {
      "text/plain": [
       "(1007, 2007)"
      ]
     },
     "execution_count": 16,
     "metadata": {},
     "output_type": "execute_result"
    }
   ],
   "source": [
    "matches = lut_df[lut_df['name'] == 'ctx-lh-fusiform']\n",
    "left_index = matches['index'].values[0]\n",
    "matches = lut_df[lut_df['name'] == 'ctx-rh-fusiform']\n",
    "right_index = matches['index'].values[0]\n",
    "left_index, right_index"
   ]
  },
  {
   "cell_type": "markdown",
   "metadata": {},
   "source": [
    "Index the atlas with these numbers and combine into a single mask:"
   ]
  },
  {
   "cell_type": "code",
   "execution_count": 17,
   "metadata": {},
   "outputs": [],
   "source": [
    "fusiform_mask = numpy.zeros_like(aparc_data, dtype=bool)\n",
    "fusiform_mask[aparc_data == float(left_index)] = True\n",
    "fusiform_mask[aparc_data == float(right_index)] = True"
   ]
  },
  {
   "cell_type": "markdown",
   "metadata": {},
   "source": [
    "Let's see how many voxels are in the mask:"
   ]
  },
  {
   "cell_type": "code",
   "execution_count": 18,
   "metadata": {},
   "outputs": [
    {
     "data": {
      "text/plain": [
       "829"
      ]
     },
     "execution_count": 18,
     "metadata": {},
     "output_type": "execute_result"
    }
   ],
   "source": [
    "roi_size = fusiform_mask.sum()\n",
    "roi_size"
   ]
  },
  {
   "cell_type": "markdown",
   "metadata": {},
   "source": [
    "Let's have a look at this Region-of-Interest (ROI)"
   ]
  },
  {
   "cell_type": "code",
   "execution_count": 19,
   "metadata": {},
   "outputs": [
    {
     "data": {
      "text/plain": [
       "<nilearn.plotting.displays._slicers.OrthoSlicer at 0x343f972d0>"
      ]
     },
     "execution_count": 19,
     "metadata": {},
     "output_type": "execute_result"
    },
    {
     "data": {
      "image/png": "[encoded data removed]",
      "text/plain": [
       "<Figure size 660x350 with 4 Axes>"
      ]
     },
     "metadata": {},
     "output_type": "display_data"
    }
   ],
   "source": [
    "from nilearn.plotting import plot_roi\n",
    "# borrow the affine transformation for this new image from their sibling\n",
    "affine = nibabel.load(aparc.fpath).affine \n",
    "plot_roi(\n",
    "    nibabel.nifti1.Nifti1Image(\n",
    "        fusiform_mask*1.0,  # the plotting image requires a float-based mask\n",
    "        affine=affine\n",
    "    )\n",
    ")"
   ]
  },
  {
   "cell_type": "markdown",
   "metadata": {},
   "source": [
    "## Creating a Dataset"
   ]
  },
  {
   "cell_type": "markdown",
   "metadata": {},
   "source": [
    "Now we are able to select only the betas for this ROI:"
   ]
  },
  {
   "cell_type": "code",
   "execution_count": 20,
   "metadata": {},
   "outputs": [
    {
     "data": {
      "text/plain": [
       "((829, 1),\n",
       " array([[157.67828937],\n",
       "        [  6.57029055],\n",
       "        [  6.43865366],\n",
       "        [  6.12197048],\n",
       "        [-10.46893236],\n",
       "        [ 16.69253657],\n",
       "        [-72.01982946],\n",
       "        [-17.89987039],\n",
       "        [ -4.91374503],\n",
       "        [ -1.04137262]]))"
      ]
     },
     "execution_count": 20,
     "metadata": {},
     "output_type": "execute_result"
    }
   ],
   "source": [
    "pattern = beta_img.get_fdata()[fusiform_mask]\n",
    "pattern.shape, pattern[-10:]"
   ]
  },
  {
   "cell_type": "markdown",
   "metadata": {},
   "source": [
    "Let's also collect the patterns for the other conditions"
   ]
  },
  {
   "cell_type": "code",
   "execution_count": 21,
   "metadata": {},
   "outputs": [],
   "source": [
    "patterns = numpy.full([len(conditions), roi_size], numpy.nan)\n",
    "for c, condition in enumerate(conditions):\n",
    "    beta_img = glm.compute_contrast(condition, output_type='effect_size')\n",
    "    patterns[c, :] = beta_img.get_fdata()[fusiform_mask].squeeze()"
   ]
  },
  {
   "cell_type": "markdown",
   "metadata": {},
   "source": [
    "The run object then provides us with dictionaries with attributes that identify this run and its various dimensions. These map unto the rsatoolbox *descriptors*."
   ]
  },
  {
   "cell_type": "code",
   "execution_count": 22,
   "metadata": {},
   "outputs": [
    {
     "data": {
      "text/plain": [
       "{'sub': '12', 'ses': '01', 'run': '01', 'task': 'main'}"
      ]
     },
     "execution_count": 22,
     "metadata": {},
     "output_type": "execute_result"
    }
   ],
   "source": [
    "run.get_dataset_descriptors()"
   ]
  },
  {
   "cell_type": "markdown",
   "metadata": {},
   "source": [
    "We can then combine the patterns and descriptors to create an rsatoolbox `Dataset` object"
   ]
  },
  {
   "cell_type": "code",
   "execution_count": 23,
   "metadata": {},
   "outputs": [],
   "source": [
    "ds = Dataset(\n",
    "    measurements=patterns,\n",
    "    descriptors=run.get_dataset_descriptors(),\n",
    "    obs_descriptors=dict(condition=conditions),\n",
    ")"
   ]
  },
  {
   "cell_type": "markdown",
   "metadata": {},
   "source": [
    "## Noise\n",
    "\n",
    "If we want to apply multivariate noise normalization, we should also collect and process a measure of the noise of our observation. The *nilearn* glm can provide us with the residuals (e.g. error) of the GLM:"
   ]
  },
  {
   "cell_type": "code",
   "execution_count": 24,
   "metadata": {},
   "outputs": [
    {
     "data": {
      "text/plain": [
       "(65, 77, 55, 546)"
      ]
     },
     "execution_count": 24,
     "metadata": {},
     "output_type": "execute_result"
    }
   ],
   "source": [
    "resid_img = glm.residuals[0]\n",
    "resid_img.get_fdata().shape"
   ]
  },
  {
   "cell_type": "markdown",
   "metadata": {},
   "source": [
    "These we can also limit to the extend of our ROI:"
   ]
  },
  {
   "cell_type": "code",
   "execution_count": 25,
   "metadata": {},
   "outputs": [
    {
     "data": {
      "text/plain": [
       "(546, 829)"
      ]
     },
     "execution_count": 25,
     "metadata": {},
     "output_type": "execute_result"
    }
   ],
   "source": [
    "resids = resid_img.get_fdata()[fusiform_mask, :].T\n",
    "resids.shape"
   ]
  },
  {
   "cell_type": "markdown",
   "metadata": {},
   "source": [
    "Next we need to determine the degrees-of-freedom for our design. This is the number of columns in the design matrix figure above; \n",
    "- 32 stimulus conditions\n",
    "- the \"baseline\" and \"instruction\" conditions\n",
    "- 4 confound predictors"
   ]
  },
  {
   "cell_type": "code",
   "execution_count": 26,
   "metadata": {},
   "outputs": [],
   "source": [
    "degrees_of_freedom = 38"
   ]
  },
  {
   "cell_type": "markdown",
   "metadata": {},
   "source": [
    "We can then calculate a noise precision matrix:"
   ]
  },
  {
   "cell_type": "code",
   "execution_count": 27,
   "metadata": {},
   "outputs": [
    {
     "data": {
      "text/plain": [
       "array([[0.02081756, 0.        , 0.        , ..., 0.        , 0.        ,\n",
       "        0.        ],\n",
       "       [0.        , 0.01565435, 0.        , ..., 0.        , 0.        ,\n",
       "        0.        ],\n",
       "       [0.        , 0.        , 0.05739469, ..., 0.        , 0.        ,\n",
       "        0.        ],\n",
       "       ...,\n",
       "       [0.        , 0.        , 0.        , ..., 0.00942196, 0.        ,\n",
       "        0.        ],\n",
       "       [0.        , 0.        , 0.        , ..., 0.        , 0.03871096,\n",
       "        0.        ],\n",
       "       [0.        , 0.        , 0.        , ..., 0.        , 0.        ,\n",
       "        0.02422791]])"
      ]
     },
     "execution_count": 27,
     "metadata": {},
     "output_type": "execute_result"
    }
   ],
   "source": [
    "prec_matrix = prec_from_residuals(\n",
    "    resids,\n",
    "    dof=degrees_of_freedom,\n",
    "    method='shrinkage_diag'\n",
    ")\n",
    "prec_matrix"
   ]
  },
  {
   "cell_type": "markdown",
   "metadata": {},
   "source": [
    "## Calculating RDMs"
   ]
  },
  {
   "cell_type": "markdown",
   "metadata": {},
   "source": [
    "Now that we have the Dataset and noise precision, we can calculate an RDM for this single run:"
   ]
  },
  {
   "cell_type": "code",
   "execution_count": 28,
   "metadata": {},
   "outputs": [
    {
     "data": {
      "text/plain": [
       "rsatoolbox.rdm.RDMs(\n",
       "dissimilarity_measure = \n",
       "squared mahalanobis\n",
       "dissimilarities = \n",
       "[[0.38365942 0.33658986 0.31859911 0.29808972 0.3224023  0.42602224\n",
       "  0.37384069 0.31120577 0.34875965 0.31970565 0.35857025 0.36532242\n",
       "  0.35291608 0.30943487 0.4088163  0.35436635 0.3157959  0.40211281\n",
       "  0.39414911 0.35124768 0.29041107 0.49595231 0.32703596 0.43430263\n",
       "  0.30354277 0.32431712 0.32335989 0.31068237 0.32235356 0.38775498\n",
       "  0.37401073 0.34064614 0.46852911 0.29005866 0.35930841 0.34972533\n",
       "  0.33482445 0.44607791 0.30067009 0.36044098 0.35054297 0.46780848\n",
       "  0.40660717 0.35586898 0.298206   0.33660109 0.4475611  0.32698626\n",
       "  0.37007769 0.36586169 0.40355882 0.52560357 0.30387521 0.35904086\n",
       "  0.37814055 0.37914135 0.50645511 0.34805984 0.37793495 0.36994403\n",
       "  0.33578252 0.32183139 0.29427345 0.32296704 0.38577602 0.29622093\n",
       "  0.34148527 0.3063691  0.35274345 0.31752502 0.33553897 0.36076734\n",
       "  0.29295141 0.37303643 0.3295859  0.37702671 0.30051722 0.31803179\n",
       "  0.33935567 0.30397038 0.4106019  0.30567882 0.37523922 0.30812558\n",
       "  0.34693256 0.38417054 0.28407867 0.42171425 0.37907335 0.35462167\n",
       "  0.35871634 0.32830908 0.44066941 0.37882407 0.35056501 0.352783\n",
       "  0.35876029 0.34108032 0.3693031  0.41951924 0.32281385 0.40969043\n",
       "  0.2817943  0.34364457 0.3839676  0.33507307 0.39492724 0.29456228\n",
       "  0.41678108 0.33392649 0.37952361 0.29772352 0.31596104 0.30334004\n",
       "  0.31529434 0.35301654 0.39524425 0.44193822 0.32615342 0.39122543\n",
       "  0.2961974  0.34743089 0.30330261 0.31190851 0.32571936 0.41895775\n",
       "  0.33986222 0.31562947 0.34113675 0.34726745 0.36534566 0.28120935\n",
       "  0.34220995 0.30775225 0.31612228 0.46255136 0.31082    0.38209386\n",
       "  0.28680498 0.32134924 0.41164036 0.27537297 0.33320177 0.30753193\n",
       "  0.39152007 0.36397378 0.32662793 0.38243648 0.31728578 0.35151498\n",
       "  0.24932721 0.45617331 0.39326436 0.28884329 0.34039174 0.33339579\n",
       "  0.3717897  0.38007074 0.37731453 0.39588326 0.35601921 0.39088614\n",
       "  0.32699209 0.33026386 0.33613591 0.2947967  0.32833944 0.35856873\n",
       "  0.3290698  0.3724945  0.33371614 0.37762255 0.41823704 0.37746227\n",
       "  0.39287745 0.33545191 0.45862312 0.45368924 0.38536121 0.39355385\n",
       "  0.40878267 0.4337443  0.45540747 0.31067034 0.49072365 0.3965818\n",
       "  0.44696618 0.38922851 0.29964255 0.38010278 0.41096019 0.4649724\n",
       "  0.4258352  0.37856928 0.41447601 0.44292887 0.38263938 0.27643898\n",
       "  0.35873526 0.28381349 0.40886014 0.29649073 0.28729771 0.308368\n",
       "  0.31876813 0.36284564 0.30090555 0.33305492 0.35274992 0.33488425\n",
       "  0.41681135 0.30617063 0.32580317 0.31228993 0.34894055 0.42499663\n",
       "  0.29331324 0.41720128 0.37298401 0.29181027 0.37921646 0.40893044\n",
       "  0.42524246 0.36282012 0.36226838 0.31531993 0.40184359 0.39145155\n",
       "  0.34207857 0.3982803  0.32348785 0.42010876 0.3315484  0.3735424\n",
       "  0.39639976 0.37790319 0.31801319 0.31270397 0.35164045 0.36405153\n",
       "  0.40597667 0.35728166 0.39140814 0.35211213 0.2980696  0.41632799\n",
       "  0.36780166 0.29582931 0.28498624 0.30733261 0.3353395  0.34932668\n",
       "  0.29807706 0.38795209 0.3609488  0.41229117 0.33246308 0.31927944\n",
       "  0.32739513 0.33040202 0.37389012 0.36090297 0.36870581 0.42590143\n",
       "  0.37845215 0.31739251 0.39440427 0.41350172 0.37732946 0.39905022\n",
       "  0.32466516 0.36867776 0.4151196  0.39035861 0.41877979 0.35406982\n",
       "  0.54079077 0.3668866  0.34606039 0.31999223 0.36579863 0.35790416\n",
       "  0.32348279 0.34433854 0.4537239  0.42875251 0.457368   0.40561256\n",
       "  0.31263115 0.28871059 0.28677285 0.38771861 0.4115757  0.36986707\n",
       "  0.46587296 0.37491792 0.42863078 0.35434501 0.32831253 0.35021994\n",
       "  0.31902437 0.31619527 0.35999297 0.34909999 0.43116244 0.32785729\n",
       "  0.32985608 0.33461299 0.50209752 0.34488972 0.30025798 0.40200311\n",
       "  0.37049691 0.34059968 0.31648776 0.54378493 0.40867373 0.54510549\n",
       "  0.39741953 0.35848022 0.44709738 0.37222573 0.37263514 0.46732677\n",
       "  0.39377312 0.29872868 0.41548701 0.34035773 0.35706753 0.3354803\n",
       "  0.36533742 0.32028373 0.38848406 0.50130004 0.37206401 0.46393178\n",
       "  0.38924986 0.37345367 0.49485343 0.36700646 0.39204357 0.4439464\n",
       "  0.34017554 0.35041571 0.29235121 0.29271388 0.33851551 0.31216012\n",
       "  0.3326029  0.33529686 0.39110598 0.28462362 0.33179157 0.3054615\n",
       "  0.27397701 0.33504062 0.31918687 0.33544426 0.34311498 0.29187141\n",
       "  0.3324812  0.42111988 0.35822678 0.37622419 0.46223548 0.40320291\n",
       "  0.39032707 0.37070938 0.34880572 0.3959683  0.34416842 0.42934844\n",
       "  0.3729773  0.38004958 0.40896177 0.32917717 0.28309584 0.34408797\n",
       "  0.28961083 0.37933243 0.35598857 0.38524887 0.30824041 0.35186346\n",
       "  0.29036155 0.25686452 0.35340966 0.34832248 0.29922168 0.40167345\n",
       "  0.34207291 0.43519466 0.36018369 0.34207539 0.33114787 0.44156591\n",
       "  0.34186326 0.44250057 0.31142469 0.29800567 0.36722042 0.35709416\n",
       "  0.30565547 0.44562177 0.35638909 0.34520724 0.31360234 0.33500902\n",
       "  0.48743093 0.30587233 0.42981415 0.35447747 0.36849816 0.48230638\n",
       "  0.32187483 0.43022734 0.32161206 0.39175851 0.40721461 0.34632074\n",
       "  0.37387487 0.35499979 0.29983164 0.28657787 0.36146499 0.42473921\n",
       "  0.38103872 0.41971482 0.35763499 0.41713811 0.32697159 0.55474069\n",
       "  0.31876417 0.53949583 0.34510411 0.37229907 0.52457296 0.33188449\n",
       "  0.39526109 0.38775345 0.34865844 0.47828601 0.33477541 0.39858296\n",
       "  0.28591541 0.31457465 0.34238576 0.24252126 0.33733686 0.34419159\n",
       "  0.42300143 0.4494506  0.40790177 0.4483051  0.34847699 0.40138228\n",
       "  0.4870107  0.44446131 0.45686683 0.40143464 0.37959466 0.30124384\n",
       "  0.32695512 0.42228108 0.30600138 0.36100341 0.35246728 0.33561192\n",
       "  0.33099148 0.37227684 0.38803882 0.4121324  0.43871247 0.37961855\n",
       "  0.44618495 0.30766322 0.37480181 0.32578568 0.33469076 0.34947416\n",
       "  0.42182684 0.29100202 0.31059335 0.3071345  0.34933706 0.36649643\n",
       "  0.3898815  0.35702013 0.45063323 0.44594839 0.39050003 0.30787676\n",
       "  0.33413993 0.45483421 0.40807713 0.42662313]]\n",
       "descriptors = \n",
       "{'noise': array([[0.02081756, 0.        , 0.        , ..., 0.        , 0.        ,\n",
       "        0.        ],\n",
       "       [0.        , 0.01565435, 0.        , ..., 0.        , 0.        ,\n",
       "        0.        ],\n",
       "       [0.        , 0.        , 0.05739469, ..., 0.        , 0.        ,\n",
       "        0.        ],\n",
       "       ...,\n",
       "       [0.        , 0.        , 0.        , ..., 0.00942196, 0.        ,\n",
       "        0.        ],\n",
       "       [0.        , 0.        , 0.        , ..., 0.        , 0.03871096,\n",
       "        0.        ],\n",
       "       [0.        , 0.        , 0.        , ..., 0.        , 0.        ,\n",
       "        0.02422791]])}\n",
       "rdm_descriptors = \n",
       "{'sub': ['12'], 'ses': ['01'], 'run': ['01'], 'task': ['main'], 'index': [0]}\n",
       "pattern_descriptors = \n",
       "{'condition': ['image_bagel', 'image_brick', 'image_candle', 'image_clock', 'image_glass', 'image_glove', 'image_helmet', 'image_kettle', 'image_knife', 'image_ladder', 'image_pedal', 'image_saddle', 'image_spade', 'image_sponge', 'image_table', 'image_wheel', 'text_bagel', 'text_brick', 'text_candle', 'text_clock', 'text_glass', 'text_glove', 'text_helmet', 'text_kettle', 'text_knife', 'text_ladder', 'text_pedal', 'text_saddle', 'text_spade', 'text_sponge', 'text_table', 'text_wheel'], 'index': [0, 1, 2, 3, 4, 5, 6, 7, 8, 9, 10, 11, 12, 13, 14, 15, 16, 17, 18, 19, 20, 21, 22, 23, 24, 25, 26, 27, 28, 29, 30, 31]}"
      ]
     },
     "execution_count": 28,
     "metadata": {},
     "output_type": "execute_result"
    }
   ],
   "source": [
    "rdms = calc_rdm(\n",
    "    dataset=ds,\n",
    "    noise=prec_matrix,\n",
    "    method='mahalanobis',\n",
    "    descriptor='condition',\n",
    ")\n",
    "rdms"
   ]
  },
  {
   "cell_type": "markdown",
   "metadata": {},
   "source": [
    "Now, instead of making an RDM for every run, we could use crossvalidation across the runs to get an RDM of the \"crossnobis\" dissimilarity. So let's loop across the runs:"
   ]
  },
  {
   "cell_type": "code",
   "execution_count": 41,
   "metadata": {},
   "outputs": [
    {
     "name": "stderr",
     "output_type": "stream",
     "text": [
      "/Users/jasper/projects/rsatoolbox/env/lib/python3.11/site-packages/nilearn/glm/first_level/experimental_paradigm.py:167: UserWarning: The following unexpected columns in events data will be ignored: response_mapping, response_time, modality, identity, task\n",
      "  warnings.warn(\n",
      "/Users/jasper/projects/rsatoolbox/env/lib/python3.11/site-packages/nilearn/glm/first_level/first_level.py:707: UserWarning: Mean values of 0 observed. The data have probably been centered.Scaling might not work as expected\n",
      "  Y, _ = mean_scaling(Y, self.signal_scaling)\n",
      "/Users/jasper/projects/rsatoolbox/env/lib/python3.11/site-packages/joblib/externals/loky/process_executor.py:752: UserWarning: A worker stopped while some jobs were given to the executor. This can be caused by a too short worker timeout or by a memory leak.\n",
      "  warnings.warn(\n",
      "/Users/jasper/projects/rsatoolbox/env/lib/python3.11/site-packages/nilearn/glm/first_level/experimental_paradigm.py:167: UserWarning: The following unexpected columns in events data will be ignored: response_mapping, response_time, modality, identity, task\n",
      "  warnings.warn(\n",
      "/Users/jasper/projects/rsatoolbox/env/lib/python3.11/site-packages/nilearn/glm/first_level/first_level.py:707: UserWarning: Mean values of 0 observed. The data have probably been centered.Scaling might not work as expected\n",
      "  Y, _ = mean_scaling(Y, self.signal_scaling)\n",
      "/Users/jasper/projects/rsatoolbox/env/lib/python3.11/site-packages/joblib/externals/loky/process_executor.py:752: UserWarning: A worker stopped while some jobs were given to the executor. This can be caused by a too short worker timeout or by a memory leak.\n",
      "  warnings.warn(\n",
      "/Users/jasper/projects/rsatoolbox/env/lib/python3.11/site-packages/nilearn/glm/first_level/experimental_paradigm.py:167: UserWarning: The following unexpected columns in events data will be ignored: response_mapping, response_time, modality, identity, task\n",
      "  warnings.warn(\n",
      "/Users/jasper/projects/rsatoolbox/env/lib/python3.11/site-packages/nilearn/glm/first_level/first_level.py:707: UserWarning: Mean values of 0 observed. The data have probably been centered.Scaling might not work as expected\n",
      "  Y, _ = mean_scaling(Y, self.signal_scaling)\n",
      "/Users/jasper/projects/rsatoolbox/env/lib/python3.11/site-packages/joblib/externals/loky/process_executor.py:752: UserWarning: A worker stopped while some jobs were given to the executor. This can be caused by a too short worker timeout or by a memory leak.\n",
      "  warnings.warn(\n",
      "/Users/jasper/projects/rsatoolbox/env/lib/python3.11/site-packages/nilearn/glm/first_level/experimental_paradigm.py:167: UserWarning: The following unexpected columns in events data will be ignored: response_mapping, response_time, modality, identity, task\n",
      "  warnings.warn(\n",
      "/Users/jasper/projects/rsatoolbox/env/lib/python3.11/site-packages/nilearn/glm/first_level/first_level.py:707: UserWarning: Mean values of 0 observed. The data have probably been centered.Scaling might not work as expected\n",
      "  Y, _ = mean_scaling(Y, self.signal_scaling)\n",
      "/Users/jasper/projects/rsatoolbox/env/lib/python3.11/site-packages/joblib/externals/loky/process_executor.py:752: UserWarning: A worker stopped while some jobs were given to the executor. This can be caused by a too short worker timeout or by a memory leak.\n",
      "  warnings.warn(\n",
      "/Users/jasper/projects/rsatoolbox/env/lib/python3.11/site-packages/nilearn/glm/first_level/experimental_paradigm.py:167: UserWarning: The following unexpected columns in events data will be ignored: response_mapping, response_time, modality, identity, task\n",
      "  warnings.warn(\n",
      "/Users/jasper/projects/rsatoolbox/env/lib/python3.11/site-packages/nilearn/glm/first_level/first_level.py:707: UserWarning: Mean values of 0 observed. The data have probably been centered.Scaling might not work as expected\n",
      "  Y, _ = mean_scaling(Y, self.signal_scaling)\n",
      "/Users/jasper/projects/rsatoolbox/env/lib/python3.11/site-packages/joblib/externals/loky/process_executor.py:752: UserWarning: A worker stopped while some jobs were given to the executor. This can be caused by a too short worker timeout or by a memory leak.\n",
      "  warnings.warn(\n",
      "/Users/jasper/projects/rsatoolbox/env/lib/python3.11/site-packages/nilearn/glm/first_level/experimental_paradigm.py:167: UserWarning: The following unexpected columns in events data will be ignored: response_mapping, response_time, modality, identity, task\n",
      "  warnings.warn(\n",
      "/Users/jasper/projects/rsatoolbox/env/lib/python3.11/site-packages/nilearn/glm/first_level/first_level.py:707: UserWarning: Mean values of 0 observed. The data have probably been centered.Scaling might not work as expected\n",
      "  Y, _ = mean_scaling(Y, self.signal_scaling)\n",
      "/Users/jasper/projects/rsatoolbox/env/lib/python3.11/site-packages/joblib/externals/loky/process_executor.py:752: UserWarning: A worker stopped while some jobs were given to the executor. This can be caused by a too short worker timeout or by a memory leak.\n",
      "  warnings.warn(\n"
     ]
    }
   ],
   "source": [
    "run_datasets = []\n",
    "prec_matrices = []\n",
    "\n",
    "for r, run in enumerate(runs):\n",
    "    design_matrix = make_first_level_design_matrix(\n",
    "        frame_times,\n",
    "        run.get_events(),\n",
    "        drift_model='polynomial',\n",
    "        drift_order=3\n",
    "    )\n",
    "    glm = FirstLevelModel(\n",
    "        t_r=tr,\n",
    "        mask_img=False,\n",
    "        minimize_memory=False,\n",
    "        signal_scaling=0,\n",
    "        n_jobs=-2\n",
    "    )\n",
    "    glm.fit([run.boldFile.fpath], design_matrices=design_matrix)\n",
    "    \n",
    "    patterns = numpy.full([len(conditions), roi_size], numpy.nan)\n",
    "    for c, condition in enumerate(conditions):\n",
    "        beta_img = glm.compute_contrast(condition, output_type='effect_size')\n",
    "        patterns[c, :] = beta_img.get_fdata()[fusiform_mask].squeeze()\n",
    "\n",
    "    descs = run.get_dataset_descriptors()\n",
    "    descs['run'] = str(r)\n",
    "    run_datasets.append(\n",
    "        Dataset(\n",
    "            measurements=patterns,\n",
    "            descriptors=descs,\n",
    "            obs_descriptors=dict(condition=conditions),\n",
    "        )\n",
    "    )\n",
    "    resids = glm.residuals[0].get_fdata()[fusiform_mask, :].T\n",
    "    prec_matrices.append(\n",
    "        prec_from_residuals(\n",
    "            resids,\n",
    "            dof=degrees_of_freedom,\n",
    "            method='shrinkage_diag'\n",
    "        )\n",
    "    )"
   ]
  },
  {
   "cell_type": "markdown",
   "metadata": {},
   "source": [
    "Now we have to combine the run-wise datasets into one single subject `Dataset`"
   ]
  },
  {
   "cell_type": "code",
   "execution_count": 42,
   "metadata": {},
   "outputs": [],
   "source": [
    "subject_ds = merge_datasets(run_datasets)"
   ]
  },
  {
   "cell_type": "markdown",
   "metadata": {},
   "source": [
    "And we can calculate the crossnobis RDM:"
   ]
  },
  {
   "cell_type": "code",
   "execution_count": 44,
   "metadata": {},
   "outputs": [
    {
     "name": "stderr",
     "output_type": "stream",
     "text": [
      "/Users/jasper/projects/rsatoolbox/env/lib/python3.11/site-packages/rsatoolbox/data/computations.py:36: RuntimeWarning: invalid value encountered in multiply\n",
      "  average = np.nan * np.empty(\n"
     ]
    }
   ],
   "source": [
    "rdms = calc_rdm(\n",
    "    dataset=subject_ds,\n",
    "    noise=prec_matrices,\n",
    "    method='crossnobis',\n",
    "    descriptor='condition',\n",
    "    cv_descriptor='run',\n",
    ")"
   ]
  },
  {
   "cell_type": "markdown",
   "metadata": {},
   "source": [
    "Last but not least; let's view the RDM:"
   ]
  },
  {
   "cell_type": "code",
   "execution_count": 45,
   "metadata": {},
   "outputs": [
    {
     "data": {
      "image/png": "[encoded data removed]",
      "text/plain": [
       "<Figure size 200x200 with 2 Axes>"
      ]
     },
     "metadata": {},
     "output_type": "display_data"
    }
   ],
   "source": [
    "fig, _, _ = show_rdm(rdms, show_colorbar='panel')\n",
    "matplotlib.pyplot.show()"
   ]
  }
 ],
 "metadata": {
  "kernelspec": {
   "display_name": "env",
   "language": "python",
   "name": "python3"
  },
  "language_info": {
   "codemirror_mode": {
    "name": "ipython",
    "version": 3
   },
   "file_extension": ".py",
   "mimetype": "text/x-python",
   "name": "python",
   "nbconvert_exporter": "python",
   "pygments_lexer": "ipython3",
   "version": "3.11.2"
  },
  "orig_nbformat": 4
 },
 "nbformat": 4,
 "nbformat_minor": 2
}
